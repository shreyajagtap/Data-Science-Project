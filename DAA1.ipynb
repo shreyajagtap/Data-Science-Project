{
  "nbformat": 4,
  "nbformat_minor": 0,
  "metadata": {
    "colab": {
      "provenance": [],
      "include_colab_link": true
    },
    "kernelspec": {
      "name": "python3",
      "display_name": "Python 3"
    },
    "language_info": {
      "name": "python"
    }
  },
  "cells": [
    {
      "cell_type": "markdown",
      "metadata": {
        "id": "view-in-github",
        "colab_type": "text"
      },
      "source": [
        "<a href=\"https://colab.research.google.com/github/shreyajagtap/Data-Science-Project/blob/main/DAA1.ipynb\" target=\"_parent\"><img src=\"https://colab.research.google.com/assets/colab-badge.svg\" alt=\"Open In Colab\"/></a>"
      ]
    },
    {
      "cell_type": "code",
      "execution_count": null,
      "metadata": {
        "id": "NTi0uvgaLdDJ",
        "outputId": "bfa7ad7a-d6f8-471c-9bf6-f4e66aab2627",
        "colab": {
          "base_uri": "https://localhost:8080/"
        }
      },
      "outputs": [
        {
          "output_type": "stream",
          "name": "stdout",
          "text": [
            "[0, 1, 1, 2, 3] \n",
            " 33\n",
            "[0, 1, 1, 2, 3] \n",
            " 5\n"
          ]
        }
      ],
      "source": [
        "x = 0\n",
        "def fib(n):\n",
        "    global x \n",
        "    if n==1:\n",
        "        x+=3\n",
        "        return n\n",
        "    x+=1\n",
        "    if n==0:\n",
        "        return n\n",
        "    return fib(n-1)+fib(n-2)\n",
        "lr=[]\n",
        "for i in range(5):\n",
        "    lr.append(fib(i))\n",
        "print(lr,\"\\n\",x)\n",
        "\n",
        "ans0=0\n",
        "ans1=1\n",
        "li=[]\n",
        "for i in range(5):\n",
        "    li.append(ans0)\n",
        "    anstemp=ans0+ans1\n",
        "    ans0=ans1\n",
        "    ans1=anstemp\n",
        "print(li,\"\\n\",i+1)"
      ]
    },
    {
      "cell_type": "code",
      "source": [],
      "metadata": {
        "id": "DuvSADChBfyL"
      },
      "execution_count": null,
      "outputs": []
    }
  ]
}